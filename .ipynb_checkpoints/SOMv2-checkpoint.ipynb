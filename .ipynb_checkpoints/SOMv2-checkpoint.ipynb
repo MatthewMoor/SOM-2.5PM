{
 "cells": [
  {
   "cell_type": "code",
   "execution_count": 2,
   "metadata": {
    "colab": {
     "base_uri": "https://localhost:8080/",
     "height": 3298
    },
    "colab_type": "code",
    "id": "kNs1FFSU3jxF",
    "outputId": "55009cf4-67ed-424d-80de-febba3bfb15f"
   },
   "outputs": [
    {
     "name": "stdout",
     "output_type": "stream",
     "text": [
      "       year  month  day  hour  season  PM_Dongsi  PM_Dongsihuan  \\\n",
      "27824  2013      3    5     8       1      117.0          166.0   \n",
      "27825  2013      3    5     9       1      131.0          165.0   \n",
      "27826  2013      3    5    10       1      141.0          173.0   \n",
      "27828  2013      3    5    12       1      169.0          182.0   \n",
      "27829  2013      3    5    13       1      169.0          169.0   \n",
      "27830  2013      3    5    14       1      174.0          183.0   \n",
      "27831  2013      3    5    15       1      194.0          195.0   \n",
      "27832  2013      3    5    16       1      208.0          212.0   \n",
      "27833  2013      3    5    17       1      213.0          207.0   \n",
      "27834  2013      3    5    18       1      203.0          198.0   \n",
      "27835  2013      3    5    19       1      209.0          216.0   \n",
      "27836  2013      3    5    20       1      222.0          256.0   \n",
      "27837  2013      3    5    21       1      228.0          263.0   \n",
      "27838  2013      3    5    22       1      227.0          269.0   \n",
      "27839  2013      3    5    23       1      236.0          260.0   \n",
      "27840  2013      3    6     0       1      245.0          266.0   \n",
      "27841  2013      3    6     1       1      176.0          227.0   \n",
      "27842  2013      3    6     2       1      168.0          212.0   \n",
      "27843  2013      3    6     3       1      155.0          212.0   \n",
      "27844  2013      3    6     4       1      152.0          196.0   \n",
      "27845  2013      3    6     5       1      154.0          205.0   \n",
      "27846  2013      3    6     6       1      190.0          199.0   \n",
      "27847  2013      3    6     7       1      193.0          203.0   \n",
      "27848  2013      3    6     8       1      185.0          204.0   \n",
      "27849  2013      3    6     9       1      138.0          191.0   \n",
      "27850  2013      3    6    10       1      177.0          186.0   \n",
      "27851  2013      3    6    11       1      182.0          181.0   \n",
      "27852  2013      3    6    12       1      198.0          195.0   \n",
      "27853  2013      3    6    13       1      221.0          235.0   \n",
      "27854  2013      3    6    14       1      240.0          249.0   \n",
      "...     ...    ...  ...   ...     ...        ...            ...   \n",
      "52548  2015     12   30    12       4       10.0            8.0   \n",
      "52549  2015     12   30    13       4        8.0            9.0   \n",
      "52550  2015     12   30    14       4        6.0            9.0   \n",
      "52551  2015     12   30    15       4        5.0            9.0   \n",
      "52552  2015     12   30    16       4        7.0            8.0   \n",
      "52553  2015     12   30    17       4        9.0            9.0   \n",
      "52554  2015     12   30    18       4        8.0           12.0   \n",
      "52555  2015     12   30    19       4       14.0           21.0   \n",
      "52556  2015     12   30    20       4       27.0           19.0   \n",
      "52557  2015     12   30    21       4       20.0           34.0   \n",
      "52558  2015     12   30    22       4       18.0           35.0   \n",
      "52559  2015     12   30    23       4       37.0           32.0   \n",
      "52560  2015     12   31     0       4       21.0           33.0   \n",
      "52561  2015     12   31     1       4       25.0           34.0   \n",
      "52562  2015     12   31     2       4       25.0           28.0   \n",
      "52563  2015     12   31     3       4       27.0           29.0   \n",
      "52564  2015     12   31     4       4       21.0           33.0   \n",
      "52565  2015     12   31     5       4       15.0           42.0   \n",
      "52566  2015     12   31     6       4       15.0           31.0   \n",
      "52567  2015     12   31     7       4       11.0           26.0   \n",
      "52568  2015     12   31     8       4       12.0           24.0   \n",
      "52569  2015     12   31     9       4       25.0           33.0   \n",
      "52575  2015     12   31    15       4       71.0           61.0   \n",
      "52576  2015     12   31    16       4       86.0           75.0   \n",
      "52577  2015     12   31    17       4       90.0          102.0   \n",
      "52578  2015     12   31    18       4      119.0          117.0   \n",
      "52579  2015     12   31    19       4      140.0          157.0   \n",
      "52580  2015     12   31    20       4      157.0          199.0   \n",
      "52581  2015     12   31    21       4      171.0          231.0   \n",
      "52582  2015     12   31    22       4      204.0          242.0   \n",
      "\n",
      "       PM_Nongzhanguan  PM_US Post  DEWP  HUMI    PRES  TEMP    Iws  \\\n",
      "27824            140.0       150.0  -6.0  59.0  1019.0   1.0   0.89   \n",
      "27825            152.0       163.0  -8.0  38.0  1019.0   5.0   1.78   \n",
      "27826            128.0       172.0  -8.0  31.0  1018.0   8.0   2.67   \n",
      "27828              3.0       181.0  -9.0  23.0  1017.0  11.0   4.45   \n",
      "27829              3.0       187.0  -9.0  22.0  1015.0  12.0   5.34   \n",
      "27830            163.0       204.0 -10.0  19.0  1014.0  13.0   7.13   \n",
      "27831            192.0       218.0  -9.0  19.0  1013.0  14.0   3.13   \n",
      "27832            203.0       222.0  -9.0  19.0  1013.0  14.0   4.92   \n",
      "27833            195.0       208.0  -8.0  23.0  1013.0  12.0   1.79   \n",
      "27834            185.0       225.0  -7.0  33.0  1013.0   8.0   0.45   \n",
      "27835            203.0       235.0  -6.0  44.0  1014.0   5.0   1.34   \n",
      "27836            217.0       263.0  -7.0  38.0  1014.0   6.0   2.23   \n",
      "27837            235.0       274.0  -6.0  48.0  1014.0   4.0   0.89   \n",
      "27838            242.0       275.0  -6.0  48.0  1014.0   4.0   0.89   \n",
      "27839            229.0       302.0  -6.0  51.0  1014.0   3.0   1.78   \n",
      "27840            202.0       225.0  -6.0  55.0  1014.0   2.0   3.13   \n",
      "27841            184.0       220.0  -6.0  51.0  1014.0   3.0   4.92   \n",
      "27842            169.0       207.0  -6.0  55.0  1013.0   2.0   6.71   \n",
      "27843            153.0       202.0  -6.0  55.0  1013.0   2.0   9.84   \n",
      "27844            145.0       200.0  -6.0  55.0  1013.0   2.0  12.97   \n",
      "27845            148.0       206.0  -6.0  55.0  1013.0   2.0  16.10   \n",
      "27846            156.0       202.0  -5.0  59.0  1013.0   2.0  19.23   \n",
      "27847            152.0       203.0  -5.0  55.0  1014.0   3.0  23.25   \n",
      "27848            176.0       196.0  -5.0  51.0  1015.0   4.0  26.38   \n",
      "27849            138.0       188.0  -6.0  39.0  1015.0   7.0  30.40   \n",
      "27850            167.0       187.0  -6.0  36.0  1015.0   8.0  34.42   \n",
      "27851            172.0       204.0  -6.0  31.0  1014.0  10.0  38.44   \n",
      "27852            189.0       233.0  -6.0  31.0  1013.0  10.0  42.46   \n",
      "27853            204.0       259.0  -6.0  31.0  1012.0  10.0   0.89   \n",
      "27854            227.0       267.0  -6.0  27.0  1011.0  12.0   1.78   \n",
      "...                ...         ...   ...   ...     ...   ...    ...   \n",
      "52548             10.0         9.0 -11.0  28.0  1031.0   6.0  23.24   \n",
      "52549              9.0        14.0 -11.0  26.0  1030.0   7.0  31.29   \n",
      "52550             11.0        14.0 -11.0  28.0  1030.0   6.0  38.44   \n",
      "52551             12.0        11.0 -11.0  28.0  1030.0   6.0  46.49   \n",
      "52552              7.0         8.0 -11.0  30.0  1030.0   5.0  53.64   \n",
      "52553             12.0         6.0 -11.0  32.0  1031.0   4.0  57.66   \n",
      "52554             13.0        15.0 -11.0  34.0  1031.0   3.0  61.68   \n",
      "52555             18.0        17.0 -11.0  46.0  1032.0  -1.0  63.47   \n",
      "52556             17.0        20.0 -10.0  54.0  1033.0  -2.0  66.60   \n",
      "52557             22.0        22.0 -10.0  50.0  1034.0  -1.0  70.62   \n",
      "52558             29.0        33.0 -11.0  58.0  1034.0  -4.0  73.75   \n",
      "52559             26.0        26.0 -11.0  53.0  1034.0  -3.0   1.79   \n",
      "52560             25.0        28.0 -11.0  62.0  1034.0  -5.0   1.79   \n",
      "52561             24.0        27.0  -9.0  73.0  1034.0  -5.0   3.58   \n",
      "52562             17.0        24.0 -11.0  73.0  1034.0  -7.0   5.37   \n",
      "52563             18.0        23.0 -11.0  67.0  1034.0  -6.0   8.50   \n",
      "52564             21.0        19.0 -11.0  73.0  1034.0  -7.0  10.29   \n",
      "52565             16.0        14.0 -11.0  73.0  1034.0  -7.0  12.08   \n",
      "52566             16.0        19.0 -12.0  72.0  1034.0  -8.0  15.21   \n",
      "52567             16.0        25.0 -11.0  73.0  1034.0  -7.0  18.34   \n",
      "52568             24.0        22.0 -11.0  67.0  1034.0  -6.0  20.13   \n",
      "52569             26.0        25.0  -8.0  68.0  1035.0  -3.0  23.26   \n",
      "52575             64.0        58.0 -11.0  32.0  1031.0   4.0   3.58   \n",
      "52576             68.0        69.0 -10.0  37.0  1031.0   3.0   4.47   \n",
      "52577             89.0        91.0 -10.0  43.0  1030.0   1.0   5.36   \n",
      "52578            112.0       114.0 -10.0  58.0  1030.0  -3.0   6.25   \n",
      "52579            122.0       133.0  -8.0  68.0  1031.0  -3.0   7.14   \n",
      "52580            149.0       169.0  -8.0  63.0  1030.0  -2.0   8.03   \n",
      "52581            196.0       203.0 -10.0  73.0  1030.0  -6.0   0.89   \n",
      "52582            221.0       212.0 -10.0  73.0  1030.0  -6.0   1.78   \n",
      "\n",
      "       precipitation  Iprec  \n",
      "27824            0.0    0.0  \n",
      "27825            0.0    0.0  \n",
      "27826            0.0    0.0  \n",
      "27828            0.0    0.0  \n",
      "27829            0.0    0.0  \n",
      "27830            0.0    0.0  \n",
      "27831            0.0    0.0  \n",
      "27832            0.0    0.0  \n",
      "27833            0.0    0.0  \n",
      "27834            0.0    0.0  \n",
      "27835            0.0    0.0  \n",
      "27836            0.0    0.0  \n",
      "27837            0.0    0.0  \n",
      "27838            0.0    0.0  \n",
      "27839            0.0    0.0  \n",
      "27840            0.0    0.0  \n",
      "27841            0.0    0.0  \n",
      "27842            0.0    0.0  \n",
      "27843            0.0    0.0  \n",
      "27844            0.0    0.0  \n",
      "27845            0.0    0.0  \n",
      "27846            0.0    0.0  \n",
      "27847            0.0    0.0  \n",
      "27848            0.0    0.0  \n",
      "27849            0.0    0.0  \n",
      "27850            0.0    0.0  \n",
      "27851            0.0    0.0  \n",
      "27852            0.0    0.0  \n",
      "27853            0.0    0.0  \n",
      "27854            0.0    0.0  \n",
      "...              ...    ...  \n",
      "52548            0.0    0.0  \n",
      "52549            0.0    0.0  \n",
      "52550            0.0    0.0  \n",
      "52551            0.0    0.0  \n",
      "52552            0.0    0.0  \n",
      "52553            0.0    0.0  \n",
      "52554            0.0    0.0  \n",
      "52555            0.0    0.0  \n",
      "52556            0.0    0.0  \n",
      "52557            0.0    0.0  \n",
      "52558            0.0    0.0  \n",
      "52559            0.0    0.0  \n",
      "52560            0.0    0.0  \n",
      "52561            0.0    0.0  \n",
      "52562            0.0    0.0  \n",
      "52563            0.0    0.0  \n",
      "52564            0.0    0.0  \n",
      "52565            0.0    0.0  \n",
      "52566            0.0    0.0  \n",
      "52567            0.0    0.0  \n",
      "52568            0.0    0.0  \n",
      "52569            0.0    0.0  \n",
      "52575            0.0    0.0  \n",
      "52576            0.0    0.0  \n",
      "52577            0.0    0.0  \n",
      "52578            0.0    0.0  \n",
      "52579            0.0    0.0  \n",
      "52580            0.0    0.0  \n",
      "52581            0.0    0.0  \n",
      "52582            0.0    0.0  \n",
      "\n",
      "[19613 rows x 16 columns]\n"
     ]
    },
    {
     "name": "stdout",
     "output_type": "stream",
     "text": [
      "(19613, 16)\n"
     ]
    },
    {
     "name": "stderr",
     "output_type": "stream",
     "text": [
      "/home/valyay/.local/lib/python3.5/site-packages/sklearn/preprocessing/data.py:334: DataConversionWarning: Data with input dtype int64, float64 were all converted to float64 by MinMaxScaler.\n",
      "  return self.partial_fit(X, y)\n"
     ]
    }
   ],
   "source": [
    "import numpy as np\n",
    "import pandas as pd\n",
    "import matplotlib.pyplot as plt\n",
    "from mpl_toolkits.mplot3d import Axes3D\n",
    "import somoclu\n",
    "%matplotlib inline \n",
    "# Our data\n",
    "dataset = pd.read_csv('BeijingPM20100101_20151231.csv')\n",
    "X = dataset.iloc[:, 1:]\n",
    "del X['cbwd']\n",
    "\n",
    "X = X[X.PM_Dongsi.notnull() & X.PM_Dongsihuan.notnull() & X.PM_Nongzhanguan.notnull()] \n",
    "print(X)\n",
    "\n",
    "from sklearn.preprocessing import MinMaxScaler\n",
    "sc = MinMaxScaler(feature_range = (0, 1))\n",
    "X = sc.fit_transform(X)\n",
    "print(np.shape(X))"
   ]
  },
  {
   "cell_type": "code",
   "execution_count": 4,
   "metadata": {
    "colab": {
     "base_uri": "https://localhost:8080/",
     "height": 102
    },
    "colab_type": "code",
    "id": "YwnJW-OQ3Kxz",
    "outputId": "99902737-a6f8-4ca7-b566-6be88e4de7bd"
   },
   "outputs": [
    {
     "name": "stdout",
     "output_type": "stream",
     "text": [
      "Warning: passing the data in the constructor is deprecated.\n",
      "Warning: data was not float32. A 32-bit copy was made\n",
      "Warning: data was not float32. A 32-bit copy was made\n",
      "CPU times: user 211 ms, sys: 0 ns, total: 211 ms\n",
      "Wall time: 103 ms\n"
     ]
    }
   ],
   "source": [
    "n_rows, n_columns = 10,10\n",
    "som = somoclu.Somoclu(n_columns, n_rows, data=X, maptype=\"toroid\")\n",
    "%time som.train(epochs=1, data=X, radius0=121, radiusN=1, scale0=0.1, scaleN=0.01)\n"
   ]
  },
  {
   "cell_type": "code",
   "execution_count": 5,
   "metadata": {
    "colab": {
     "base_uri": "https://localhost:8080/",
     "height": 8160
    },
    "colab_type": "code",
    "id": "hJH81Sq6ICaB",
    "outputId": "bcf8146d-832d-48e0-e613-f4171d0bc0f4"
   },
   "outputs": [
    {
     "name": "stderr",
     "output_type": "stream",
     "text": [
      "/home/valyay/.local/lib/python3.5/site-packages/matplotlib/image.py:395: UserWarning: Warning: converting a masked element to nan.\n",
      "  dv = (np.float64(self.norm.vmax) -\n",
      "/home/valyay/.local/lib/python3.5/site-packages/matplotlib/image.py:396: UserWarning: Warning: converting a masked element to nan.\n",
      "  np.float64(self.norm.vmin))\n",
      "/home/valyay/.local/lib/python3.5/site-packages/matplotlib/image.py:403: UserWarning: Warning: converting a masked element to nan.\n",
      "  a_min = np.float64(newmin)\n",
      "/home/valyay/.local/lib/python3.5/site-packages/matplotlib/image.py:408: UserWarning: Warning: converting a masked element to nan.\n",
      "  a_max = np.float64(newmax)\n",
      "/home/valyay/.local/lib/python3.5/site-packages/matplotlib/colors.py:918: UserWarning: Warning: converting a masked element to nan.\n",
      "  dtype = np.min_scalar_type(value)\n",
      "/home/valyay/.local/lib/python3.5/site-packages/numpy/ma/core.py:713: UserWarning: Warning: converting a masked element to nan.\n",
      "  data = np.array(a, copy=False, subok=subok)\n"
     ]
    },
    {
     "data": {
      "image/png": "[encoded data removed]",
      "text/plain": [
       "<Figure size 576x576 with 1 Axes>"
      ]
     },
     "metadata": {
      "needs_background": "light"
     },
     "output_type": "display_data"
    },
    {
     "data": {
      "image/png": "[encoded data removed]",
      "text/plain": [
       "<Figure size 576x576 with 1 Axes>"
      ]
     },
     "metadata": {
      "needs_background": "light"
     },
     "output_type": "display_data"
    },
    {
     "data": {
      "image/png": "[encoded data removed]",
      "text/plain": [
       "<Figure size 576x576 with 1 Axes>"
      ]
     },
     "metadata": {
      "needs_background": "light"
     },
     "output_type": "display_data"
    },
    {
     "data": {
      "image/png": "[encoded data removed]",
      "text/plain": [
       "<Figure size 576x576 with 1 Axes>"
      ]
     },
     "metadata": {
      "needs_background": "light"
     },
     "output_type": "display_data"
    },
    {
     "data": {
      "image/png": "[encoded data removed]",
      "text/plain": [
       "<Figure size 576x576 with 1 Axes>"
      ]
     },
     "metadata": {
      "needs_background": "light"
     },
     "output_type": "display_data"
    },
    {
     "data": {
      "image/png": "[encoded data removed]",
      "text/plain": [
       "<Figure size 576x576 with 1 Axes>"
      ]
     },
     "metadata": {
      "needs_background": "light"
     },
     "output_type": "display_data"
    },
    {
     "data": {
      "image/png": "[encoded data removed]",
      "text/plain": [
       "<Figure size 576x576 with 1 Axes>"
      ]
     },
     "metadata": {
      "needs_background": "light"
     },
     "output_type": "display_data"
    },
    {
     "data": {
      "image/png": "[encoded data removed]",
      "text/plain": [
       "<Figure size 576x576 with 1 Axes>"
      ]
     },
     "metadata": {
      "needs_background": "light"
     },
     "output_type": "display_data"
    },
    {
     "data": {
      "image/png": "[encoded data removed]",
      "text/plain": [
       "<Figure size 576x576 with 1 Axes>"
      ]
     },
     "metadata": {
      "needs_background": "light"
     },
     "output_type": "display_data"
    },
    {
     "data": {
      "image/png": "[encoded data removed]",
      "text/plain": [
       "<Figure size 576x576 with 1 Axes>"
      ]
     },
     "metadata": {
      "needs_background": "light"
     },
     "output_type": "display_data"
    },
    {
     "data": {
      "image/png": "[encoded data removed]",
      "text/plain": [
       "<Figure size 576x576 with 1 Axes>"
      ]
     },
     "metadata": {
      "needs_background": "light"
     },
     "output_type": "display_data"
    },
    {
     "data": {
      "image/png": "[encoded data removed]",
      "text/plain": [
       "<Figure size 576x576 with 1 Axes>"
      ]
     },
     "metadata": {
      "needs_background": "light"
     },
     "output_type": "display_data"
    },
    {
     "data": {
      "image/png": "[encoded data removed]",
      "text/plain": [
       "<Figure size 576x576 with 1 Axes>"
      ]
     },
     "metadata": {
      "needs_background": "light"
     },
     "output_type": "display_data"
    },
    {
     "data": {
      "image/png": "[encoded data removed]",
      "text/plain": [
       "<Figure size 576x576 with 1 Axes>"
      ]
     },
     "metadata": {
      "needs_background": "light"
     },
     "output_type": "display_data"
    },
    {
     "data": {
      "image/png": "[encoded data removed]",
      "text/plain": [
       "<Figure size 576x576 with 1 Axes>"
      ]
     },
     "metadata": {
      "needs_background": "light"
     },
     "output_type": "display_data"
    },
    {
     "data": {
      "image/png": "[encoded data removed]",
      "text/plain": [
       "<Figure size 576x576 with 1 Axes>"
      ]
     },
     "metadata": {
      "needs_background": "light"
     },
     "output_type": "display_data"
    },
    {
     "data": {
      "image/png": "[encoded data removed]",
      "text/plain": [
       "<Figure size 576x576 with 1 Axes>"
      ]
     },
     "metadata": {
      "needs_background": "light"
     },
     "output_type": "display_data"
    },
    {
     "data": {
      "text/plain": [
       "<module 'matplotlib.pyplot' from '/home/valyay/.local/lib/python3.5/site-packages/matplotlib/pyplot.py'>"
      ]
     },
     "execution_count": 5,
     "metadata": {},
     "output_type": "execute_result"
    }
   ],
   "source": [
    "som.view_umatrix()\n",
    "som.view_component_planes()"
   ]
  },
  {
   "cell_type": "code",
   "execution_count": 43,
   "metadata": {
    "colab": {
     "base_uri": "https://localhost:8080/",
     "height": 914
    },
    "colab_type": "code",
    "id": "U4uMcuZNIDfz",
    "outputId": "871e4ac8-3a8d-4de5-b804-8ac6fabe1034"
   },
   "outputs": [
    {
     "ename": "ValueError",
     "evalue": "ignored",
     "output_type": "error",
     "traceback": [
      "\u001b[0;31m---------------------------------------------------------------------------\u001b[0m",
      "\u001b[0;31mValueError\u001b[0m                                Traceback (most recent call last)",
      "\u001b[0;32m<ipython-input-43-7754df693525>\u001b[0m in \u001b[0;36m<module>\u001b[0;34m()\u001b[0m\n\u001b[0;32m----> 1\u001b[0;31m \u001b[0msom\u001b[0m\u001b[0;34m.\u001b[0m\u001b[0mcluster\u001b[0m\u001b[0;34m(\u001b[0m\u001b[0;34m)\u001b[0m\u001b[0;34m\u001b[0m\u001b[0;34m\u001b[0m\u001b[0m\n\u001b[0m\u001b[1;32m      2\u001b[0m \u001b[0msom\u001b[0m\u001b[0;34m.\u001b[0m\u001b[0mview_umatrix\u001b[0m\u001b[0;34m(\u001b[0m\u001b[0mbestmatches\u001b[0m\u001b[0;34m=\u001b[0m\u001b[0;32mTrue\u001b[0m\u001b[0;34m)\u001b[0m\u001b[0;34m\u001b[0m\u001b[0;34m\u001b[0m\u001b[0m\n",
      "\u001b[0;32m/usr/local/lib/python3.6/dist-packages/somoclu/train.py\u001b[0m in \u001b[0;36mcluster\u001b[0;34m(self, algorithm)\u001b[0m\n\u001b[1;32m    550\u001b[0m         \u001b[0moriginal_shape\u001b[0m \u001b[0;34m=\u001b[0m \u001b[0mself\u001b[0m\u001b[0;34m.\u001b[0m\u001b[0mcodebook\u001b[0m\u001b[0;34m.\u001b[0m\u001b[0mshape\u001b[0m\u001b[0;34m\u001b[0m\u001b[0;34m\u001b[0m\u001b[0m\n\u001b[1;32m    551\u001b[0m         \u001b[0mself\u001b[0m\u001b[0;34m.\u001b[0m\u001b[0mcodebook\u001b[0m\u001b[0;34m.\u001b[0m\u001b[0mshape\u001b[0m \u001b[0;34m=\u001b[0m \u001b[0;34m(\u001b[0m\u001b[0mself\u001b[0m\u001b[0;34m.\u001b[0m\u001b[0m_n_columns\u001b[0m \u001b[0;34m*\u001b[0m \u001b[0mself\u001b[0m\u001b[0;34m.\u001b[0m\u001b[0m_n_rows\u001b[0m\u001b[0;34m,\u001b[0m \u001b[0mself\u001b[0m\u001b[0;34m.\u001b[0m\u001b[0mn_dim\u001b[0m\u001b[0;34m)\u001b[0m\u001b[0;34m\u001b[0m\u001b[0;34m\u001b[0m\u001b[0m\n\u001b[0;32m--> 552\u001b[0;31m         \u001b[0mlinear_clusters\u001b[0m \u001b[0;34m=\u001b[0m \u001b[0malgorithm\u001b[0m\u001b[0;34m.\u001b[0m\u001b[0mfit_predict\u001b[0m\u001b[0;34m(\u001b[0m\u001b[0mself\u001b[0m\u001b[0;34m.\u001b[0m\u001b[0mcodebook\u001b[0m\u001b[0;34m)\u001b[0m\u001b[0;34m\u001b[0m\u001b[0;34m\u001b[0m\u001b[0m\n\u001b[0m\u001b[1;32m    553\u001b[0m         \u001b[0mself\u001b[0m\u001b[0;34m.\u001b[0m\u001b[0mcodebook\u001b[0m\u001b[0;34m.\u001b[0m\u001b[0mshape\u001b[0m \u001b[0;34m=\u001b[0m \u001b[0moriginal_shape\u001b[0m\u001b[0;34m\u001b[0m\u001b[0;34m\u001b[0m\u001b[0m\n\u001b[1;32m    554\u001b[0m         \u001b[0mself\u001b[0m\u001b[0;34m.\u001b[0m\u001b[0mclusters\u001b[0m \u001b[0;34m=\u001b[0m \u001b[0mnp\u001b[0m\u001b[0;34m.\u001b[0m\u001b[0mzeros\u001b[0m\u001b[0;34m(\u001b[0m\u001b[0;34m(\u001b[0m\u001b[0mself\u001b[0m\u001b[0;34m.\u001b[0m\u001b[0m_n_rows\u001b[0m\u001b[0;34m,\u001b[0m \u001b[0mself\u001b[0m\u001b[0;34m.\u001b[0m\u001b[0m_n_columns\u001b[0m\u001b[0;34m)\u001b[0m\u001b[0;34m,\u001b[0m \u001b[0mdtype\u001b[0m\u001b[0;34m=\u001b[0m\u001b[0mint\u001b[0m\u001b[0;34m)\u001b[0m\u001b[0;34m\u001b[0m\u001b[0;34m\u001b[0m\u001b[0m\n",
      "\u001b[0;32m/usr/local/lib/python3.6/dist-packages/sklearn/cluster/k_means_.py\u001b[0m in \u001b[0;36mfit_predict\u001b[0;34m(self, X, y, sample_weight)\u001b[0m\n\u001b[1;32m    995\u001b[0m             \u001b[0mIndex\u001b[0m \u001b[0mof\u001b[0m \u001b[0mthe\u001b[0m \u001b[0mcluster\u001b[0m \u001b[0meach\u001b[0m \u001b[0msample\u001b[0m \u001b[0mbelongs\u001b[0m \u001b[0mto\u001b[0m\u001b[0;34m.\u001b[0m\u001b[0;34m\u001b[0m\u001b[0;34m\u001b[0m\u001b[0m\n\u001b[1;32m    996\u001b[0m         \"\"\"\n\u001b[0;32m--> 997\u001b[0;31m         \u001b[0;32mreturn\u001b[0m \u001b[0mself\u001b[0m\u001b[0;34m.\u001b[0m\u001b[0mfit\u001b[0m\u001b[0;34m(\u001b[0m\u001b[0mX\u001b[0m\u001b[0;34m,\u001b[0m \u001b[0msample_weight\u001b[0m\u001b[0;34m=\u001b[0m\u001b[0msample_weight\u001b[0m\u001b[0;34m)\u001b[0m\u001b[0;34m.\u001b[0m\u001b[0mlabels_\u001b[0m\u001b[0;34m\u001b[0m\u001b[0;34m\u001b[0m\u001b[0m\n\u001b[0m\u001b[1;32m    998\u001b[0m \u001b[0;34m\u001b[0m\u001b[0m\n\u001b[1;32m    999\u001b[0m     \u001b[0;32mdef\u001b[0m \u001b[0mfit_transform\u001b[0m\u001b[0;34m(\u001b[0m\u001b[0mself\u001b[0m\u001b[0;34m,\u001b[0m \u001b[0mX\u001b[0m\u001b[0;34m,\u001b[0m \u001b[0my\u001b[0m\u001b[0;34m=\u001b[0m\u001b[0;32mNone\u001b[0m\u001b[0;34m,\u001b[0m \u001b[0msample_weight\u001b[0m\u001b[0;34m=\u001b[0m\u001b[0;32mNone\u001b[0m\u001b[0;34m)\u001b[0m\u001b[0;34m:\u001b[0m\u001b[0;34m\u001b[0m\u001b[0;34m\u001b[0m\u001b[0m\n",
      "\u001b[0;32m/usr/local/lib/python3.6/dist-packages/sklearn/cluster/k_means_.py\u001b[0m in \u001b[0;36mfit\u001b[0;34m(self, X, y, sample_weight)\u001b[0m\n\u001b[1;32m    969\u001b[0m                 \u001b[0mtol\u001b[0m\u001b[0;34m=\u001b[0m\u001b[0mself\u001b[0m\u001b[0;34m.\u001b[0m\u001b[0mtol\u001b[0m\u001b[0;34m,\u001b[0m \u001b[0mrandom_state\u001b[0m\u001b[0;34m=\u001b[0m\u001b[0mrandom_state\u001b[0m\u001b[0;34m,\u001b[0m \u001b[0mcopy_x\u001b[0m\u001b[0;34m=\u001b[0m\u001b[0mself\u001b[0m\u001b[0;34m.\u001b[0m\u001b[0mcopy_x\u001b[0m\u001b[0;34m,\u001b[0m\u001b[0;34m\u001b[0m\u001b[0;34m\u001b[0m\u001b[0m\n\u001b[1;32m    970\u001b[0m                 \u001b[0mn_jobs\u001b[0m\u001b[0;34m=\u001b[0m\u001b[0mself\u001b[0m\u001b[0;34m.\u001b[0m\u001b[0mn_jobs\u001b[0m\u001b[0;34m,\u001b[0m \u001b[0malgorithm\u001b[0m\u001b[0;34m=\u001b[0m\u001b[0mself\u001b[0m\u001b[0;34m.\u001b[0m\u001b[0malgorithm\u001b[0m\u001b[0;34m,\u001b[0m\u001b[0;34m\u001b[0m\u001b[0;34m\u001b[0m\u001b[0m\n\u001b[0;32m--> 971\u001b[0;31m                 return_n_iter=True)\n\u001b[0m\u001b[1;32m    972\u001b[0m         \u001b[0;32mreturn\u001b[0m \u001b[0mself\u001b[0m\u001b[0;34m\u001b[0m\u001b[0;34m\u001b[0m\u001b[0m\n\u001b[1;32m    973\u001b[0m \u001b[0;34m\u001b[0m\u001b[0m\n",
      "\u001b[0;32m/usr/local/lib/python3.6/dist-packages/sklearn/cluster/k_means_.py\u001b[0m in \u001b[0;36mk_means\u001b[0;34m(X, n_clusters, sample_weight, init, precompute_distances, n_init, max_iter, verbose, tol, random_state, copy_x, n_jobs, algorithm, return_n_iter)\u001b[0m\n\u001b[1;32m    309\u001b[0m     \u001b[0morder\u001b[0m \u001b[0;34m=\u001b[0m \u001b[0;34m\"C\"\u001b[0m \u001b[0;32mif\u001b[0m \u001b[0mcopy_x\u001b[0m \u001b[0;32melse\u001b[0m \u001b[0;32mNone\u001b[0m\u001b[0;34m\u001b[0m\u001b[0;34m\u001b[0m\u001b[0m\n\u001b[1;32m    310\u001b[0m     X = check_array(X, accept_sparse='csr', dtype=[np.float64, np.float32],\n\u001b[0;32m--> 311\u001b[0;31m                     order=order, copy=copy_x)\n\u001b[0m\u001b[1;32m    312\u001b[0m     \u001b[0;31m# verify that the number of samples given is larger than k\u001b[0m\u001b[0;34m\u001b[0m\u001b[0;34m\u001b[0m\u001b[0;34m\u001b[0m\u001b[0m\n\u001b[1;32m    313\u001b[0m     \u001b[0;32mif\u001b[0m \u001b[0m_num_samples\u001b[0m\u001b[0;34m(\u001b[0m\u001b[0mX\u001b[0m\u001b[0;34m)\u001b[0m \u001b[0;34m<\u001b[0m \u001b[0mn_clusters\u001b[0m\u001b[0;34m:\u001b[0m\u001b[0;34m\u001b[0m\u001b[0;34m\u001b[0m\u001b[0m\n",
      "\u001b[0;32m/usr/local/lib/python3.6/dist-packages/sklearn/utils/validation.py\u001b[0m in \u001b[0;36mcheck_array\u001b[0;34m(array, accept_sparse, accept_large_sparse, dtype, order, copy, force_all_finite, ensure_2d, allow_nd, ensure_min_samples, ensure_min_features, warn_on_dtype, estimator)\u001b[0m\n\u001b[1;32m    571\u001b[0m         \u001b[0;32mif\u001b[0m \u001b[0mforce_all_finite\u001b[0m\u001b[0;34m:\u001b[0m\u001b[0;34m\u001b[0m\u001b[0;34m\u001b[0m\u001b[0m\n\u001b[1;32m    572\u001b[0m             _assert_all_finite(array,\n\u001b[0;32m--> 573\u001b[0;31m                                allow_nan=force_all_finite == 'allow-nan')\n\u001b[0m\u001b[1;32m    574\u001b[0m \u001b[0;34m\u001b[0m\u001b[0m\n\u001b[1;32m    575\u001b[0m     \u001b[0mshape_repr\u001b[0m \u001b[0;34m=\u001b[0m \u001b[0m_shape_repr\u001b[0m\u001b[0;34m(\u001b[0m\u001b[0marray\u001b[0m\u001b[0;34m.\u001b[0m\u001b[0mshape\u001b[0m\u001b[0;34m)\u001b[0m\u001b[0;34m\u001b[0m\u001b[0;34m\u001b[0m\u001b[0m\n",
      "\u001b[0;32m/usr/local/lib/python3.6/dist-packages/sklearn/utils/validation.py\u001b[0m in \u001b[0;36m_assert_all_finite\u001b[0;34m(X, allow_nan)\u001b[0m\n\u001b[1;32m     54\u001b[0m                 not allow_nan and not np.isfinite(X).all()):\n\u001b[1;32m     55\u001b[0m             \u001b[0mtype_err\u001b[0m \u001b[0;34m=\u001b[0m \u001b[0;34m'infinity'\u001b[0m \u001b[0;32mif\u001b[0m \u001b[0mallow_nan\u001b[0m \u001b[0;32melse\u001b[0m \u001b[0;34m'NaN, infinity'\u001b[0m\u001b[0;34m\u001b[0m\u001b[0;34m\u001b[0m\u001b[0m\n\u001b[0;32m---> 56\u001b[0;31m             \u001b[0;32mraise\u001b[0m \u001b[0mValueError\u001b[0m\u001b[0;34m(\u001b[0m\u001b[0mmsg_err\u001b[0m\u001b[0;34m.\u001b[0m\u001b[0mformat\u001b[0m\u001b[0;34m(\u001b[0m\u001b[0mtype_err\u001b[0m\u001b[0;34m,\u001b[0m \u001b[0mX\u001b[0m\u001b[0;34m.\u001b[0m\u001b[0mdtype\u001b[0m\u001b[0;34m)\u001b[0m\u001b[0;34m)\u001b[0m\u001b[0;34m\u001b[0m\u001b[0;34m\u001b[0m\u001b[0m\n\u001b[0m\u001b[1;32m     57\u001b[0m \u001b[0;34m\u001b[0m\u001b[0m\n\u001b[1;32m     58\u001b[0m \u001b[0;34m\u001b[0m\u001b[0m\n",
      "\u001b[0;31mValueError\u001b[0m: Input contains NaN, infinity or a value too large for dtype('float32')."
     ]
    }
   ],
   "source": [
    "som.cluster()\n",
    "som.view_umatrix(bestmatches=True)"
   ]
  }
 ],
 "metadata": {
  "accelerator": "GPU",
  "colab": {
   "collapsed_sections": [],
   "name": "Untitled0.ipynb",
   "provenance": [],
   "version": "0.3.2"
  },
  "kernelspec": {
   "display_name": "Python 3",
   "language": "python",
   "name": "python3"
  },
  "language_info": {
   "codemirror_mode": {
    "name": "ipython",
    "version": 3
   },
   "file_extension": ".py",
   "mimetype": "text/x-python",
   "name": "python",
   "nbconvert_exporter": "python",
   "pygments_lexer": "ipython3",
   "version": "3.5.2"
  }
 },
 "nbformat": 4,
 "nbformat_minor": 1
}
